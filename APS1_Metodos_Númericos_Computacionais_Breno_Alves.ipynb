{
  "nbformat": 4,
  "nbformat_minor": 0,
  "metadata": {
    "colab": {
      "provenance": [],
      "collapsed_sections": [],
      "include_colab_link": true
    },
    "kernelspec": {
      "name": "python3",
      "display_name": "Python 3"
    },
    "language_info": {
      "name": "python"
    }
  },
  "cells": [
    {
      "cell_type": "markdown",
      "metadata": {
        "id": "view-in-github",
        "colab_type": "text"
      },
      "source": [
        "<a href=\"https://colab.research.google.com/github/AstalDLyon/AstalDLyon/blob/main/APS1_Metodos_N%C3%BAmericos_Computacionais_Breno_Alves.ipynb\" target=\"_parent\"><img src=\"https://colab.research.google.com/assets/colab-badge.svg\" alt=\"Open In Colab\"/></a>"
      ]
    },
    {
      "cell_type": "markdown",
      "source": [
        "Questão 1"
      ],
      "metadata": {
        "id": "zY0D2iXxNvdK"
      }
    },
    {
      "cell_type": "code",
      "source": [
        "import numpy as np\n",
        "import math \n",
        "import matplotlib.pyplot as plt\n",
        "a = -2.5\n",
        "b = 2.5\n",
        "\n",
        "def f(x): #Função Raiz // Não usei o lambda por que por algum motivo, dava um erro, para não perder tempo fiz do jeito antigo\n",
        "\n",
        "  f = x**4 - x**3 - x**2 + x + 8\n",
        "    \n",
        "  return(f)\n",
        "\n",
        "print(\"f(x) = x^4 - x^3 - x^2 + x em x = a é\", f(a))\n",
        "print(\"f(x) = x^4 - x^3 - x^2 + x em x = b é\", f(b))\n",
        "\n",
        "\n",
        "l = (math.log(b - a, 10) - math.log(0.000001, 10)) / math.log(2, 10)\n",
        "round(l,6)\n",
        "print(f'Valor de l: ', round(l,6)) # round para fazer um truncamento em 6 casas que é a precisão especificada\n",
        "# código para resolução de L\n",
        "\n",
        "x = np.linspace(-2.5, 2.5) #Retorna números com espaçamento uniforme em um intervalo especificado.\n",
        "# Usar o intervalo ao qual quer determinar a solução\n",
        "y = f(x) # valores da função avaliada nos pontos x\n",
        "plt.figure(dpi=70, figsize=(8, 6)) # Crie uma nova figura ou ative uma figura existente.\n",
        "# figsizw(l,h) largura e altura em polegadas. dpi=resolução da figura em polegadas\n",
        "plt.title(\"Valor da função de f(x) = x^4 - x^3 - x^2 + x + 8\")\n",
        "plt.plot(x,y)\n",
        "plt.hlines(y=0, xmin=-5, xmax=10) # Responsável pela linha do eixo x\n",
        "plt.vlines(x=0, ymin=-5, ymax=30) # Responsável Pela linha do eixo y\n",
        "plt.ylabel(\"f(x)\") # Utilizei para o título do eixo y\n",
        "plt.show() #Exiba todas as figuras abertas.\n",
        "\n"
      ],
      "metadata": {
        "id": "Wls2vkD4dO9p",
        "colab": {
          "base_uri": "https://localhost:8080/",
          "height": 432
        },
        "outputId": "44aecd46-73b4-4da1-e364-163f88828bba"
      },
      "execution_count": 8,
      "outputs": [
        {
          "output_type": "stream",
          "name": "stdout",
          "text": [
            "f(x) = x^4 - x^3 - x^2 + x em x = a é 53.9375\n",
            "f(x) = x^4 - x^3 - x^2 + x em x = b é 27.6875\n",
            "Valor de l:  22.253497\n"
          ]
        },
        {
          "output_type": "display_data",
          "data": {
            "text/plain": [
              "<Figure size 560x420 with 1 Axes>"
            ],
            "image/png": "[encoded data removed]"
          },
          "metadata": {
            "needs_background": "light"
          }
        }
      ]
    },
    {
      "cell_type": "markdown",
      "source": [
        "Abaixo a questão 1 sobre erro absoluto e erro relativo da mesma função."
      ],
      "metadata": {
        "id": "z8B1X99ylZXo"
      }
    },
    {
      "cell_type": "code",
      "source": [
        "\n",
        "import numpy as np  \n",
        "import math as mt\n",
        "import matplotlib.pyplot as plt\n",
        "\n",
        "a = -2.5\n",
        "b = 2.5\n",
        "\n",
        "def f(x): # Introdução da função pedida na aps\n",
        " \n",
        "  f = x**4 - x**3 - x**2 + x + 8\n",
        " \n",
        "  return(f)\n",
        "  \n",
        "print(\"O valor de f(x) = x^4 - x^3 - x^2 + x + 8 em x = a é\", f(a))\n",
        "print(\"O valor de f(x) = x^4 - x^3 - x^2 + x + 8 em x = b é\", f(b))\n",
        "\n",
        "u = (a+b)/2\n",
        "precisao = 1e-6\n",
        "fu=f(u)\n",
        "qtd_itr=1\n",
        "us_encontrados = [u]\n",
        "\n",
        "# criterio de parada, erro relativo.\n",
        "# também serão calculados erros absolutos para comparação\n",
        "\n",
        "while np.abs((b - a)/b) > precisao: \n",
        "    if f(b)*f(a) > 0: 0\n",
        "    print(\"A função não possui solução no intervalo considerado.\")\n",
        "    if f(b)*fu < 0: b = u\n",
        "    else: a = u\n",
        "    qtd_itr = qtd_itr + 1\n",
        "    u = (a + b)/2\n",
        "    us_encontrados.append(u)\n",
        "    fu = f(u)\n",
        "print(\"Número de iterações até afluir a um ponto:\", qtd_itr)\n",
        "print(\"i.Erro absoluto de aproximação da função:\", round(np.abs(fu),6))\n",
        "print(\"ii. Erro absoluto abs(f(b) - f(a)):\", np.abs(f(b)-f(a)) )\n",
        "print(\"iii. Erro absoluto abs(b - a):\", np.abs(b-a) )\n",
        "print(\"i. Erro relativo abs((b - a)/b):\", np.abs((b-a)/a) )\n",
        "print(\"ii. Erro relativo abs((f(b) - f(a))/f(b) ):\", np.abs((f(b)-f(a))/f(b)) )\n",
        "print(\"Resultado encontrado:\", round(u,6))\n",
        "print(\"Valores encontrado a cada iteração:\", us_encontrados) # não arredondei porque acredito que perderia informações sobre em que momento exato seria encontrado u."
      ],
      "metadata": {
        "id": "_UREYbKUdd-T",
        "colab": {
          "base_uri": "https://localhost:8080/"
        },
        "outputId": "48ca2a2d-d18c-44b6-d45e-d7f3f1564ccc"
      },
      "execution_count": 7,
      "outputs": [
        {
          "output_type": "stream",
          "name": "stdout",
          "text": [
            "O valor de f(x) = x^4 - x^3 - x^2 + x + 8 em x = a é 53.9375\n",
            "O valor de f(x) = x^4 - x^3 - x^2 + x + 8 em x = b é 27.6875\n",
            "A função não possui solução no intervalo considerado.\n",
            "A função não possui solução no intervalo considerado.\n",
            "A função não possui solução no intervalo considerado.\n",
            "A função não possui solução no intervalo considerado.\n",
            "A função não possui solução no intervalo considerado.\n",
            "A função não possui solução no intervalo considerado.\n",
            "A função não possui solução no intervalo considerado.\n",
            "A função não possui solução no intervalo considerado.\n",
            "A função não possui solução no intervalo considerado.\n",
            "A função não possui solução no intervalo considerado.\n",
            "A função não possui solução no intervalo considerado.\n",
            "A função não possui solução no intervalo considerado.\n",
            "A função não possui solução no intervalo considerado.\n",
            "A função não possui solução no intervalo considerado.\n",
            "A função não possui solução no intervalo considerado.\n",
            "A função não possui solução no intervalo considerado.\n",
            "A função não possui solução no intervalo considerado.\n",
            "A função não possui solução no intervalo considerado.\n",
            "A função não possui solução no intervalo considerado.\n",
            "A função não possui solução no intervalo considerado.\n",
            "A função não possui solução no intervalo considerado.\n",
            "Número de iterações até afluir a um ponto: 22\n",
            "i.Erro absoluto de aproximação da função: 27.687453\n",
            "ii. Erro absoluto abs(f(b) - f(a)): 9.47712203469564e-05\n",
            "iii. Erro absoluto abs(b - a): 2.384185791015625e-06\n",
            "i. Erro relativo abs((b - a)/b): 9.536752259018191e-07\n",
            "ii. Erro relativo abs((f(b) - f(a))/f(b) ): 3.422888319528899e-06\n",
            "Resultado encontrado: 2.499999\n",
            "Valores encontrado a cada iteração: [0.0, 1.25, 1.875, 2.1875, 2.34375, 2.421875, 2.4609375, 2.48046875, 2.490234375, 2.4951171875, 2.49755859375, 2.498779296875, 2.4993896484375, 2.49969482421875, 2.499847412109375, 2.4999237060546875, 2.4999618530273438, 2.499980926513672, 2.499990463256836, 2.499995231628418, 2.499997615814209, 2.4999988079071045]\n"
          ]
        }
      ]
    },
    {
      "cell_type": "markdown",
      "source": [
        "Questão 4"
      ],
      "metadata": {
        "id": "07PVzfZyg91_"
      }
    },
    {
      "cell_type": "code",
      "source": [
        "import numpy as np\n",
        "from scipy.spatial.distance import euclidean # um import especifico somente para pegar a função de distancia euclidiana\n",
        "\n",
        "x1 = np.array([1, 3, 5, -6, 6])\n",
        "x2 = np.array([2, -4, 6, 8, -7])\n",
        "\n",
        "valor_ab = euclidean(x1, x2) # calculo do valor absoluto e print do mesmo usando a função para distancia euclidiana já existente em python\n",
        "print(round(valor_ab,6)) #uso de round em todas os valores para realizar um truncamento\n",
        "\n",
        "x1_norm2 =np.sqrt(np.sum((x1)**2)) # calculo da norma de x1, para podermos aplica-la no calculo relativo\n",
        "\n",
        "print(round(x1_norm2,6))\n",
        "\n",
        "valor_re = valor_ab / x1_norm2 # calculo do valor relativo e print do mesmo\n",
        "print(round(valor_re,6))"
      ],
      "metadata": {
        "id": "GrwiCVZRg5Lm",
        "colab": {
          "base_uri": "https://localhost:8080/"
        },
        "outputId": "ac4d95f3-4394-48e7-8fa0-1831f9fa618f"
      },
      "execution_count": 9,
      "outputs": [
        {
          "output_type": "stream",
          "name": "stdout",
          "text": [
            "20.396078\n",
            "10.34408\n",
            "1.971763\n"
          ]
        }
      ]
    }
  ]
}
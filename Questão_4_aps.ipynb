{
  "nbformat": 4,
  "nbformat_minor": 0,
  "metadata": {
    "colab": {
      "provenance": [],
      "collapsed_sections": [],
      "authorship_tag": "ABX9TyMRXvpqXvM1zGAP+vqKsUma",
      "include_colab_link": true
    },
    "kernelspec": {
      "name": "python3",
      "display_name": "Python 3"
    },
    "language_info": {
      "name": "python"
    }
  },
  "cells": [
    {
      "cell_type": "markdown",
      "metadata": {
        "id": "view-in-github",
        "colab_type": "text"
      },
      "source": [
        "<a href=\"https://colab.research.google.com/github/AstalDLyon/AstalDLyon/blob/main/Quest%C3%A3o_4_aps.ipynb\" target=\"_parent\"><img src=\"https://colab.research.google.com/assets/colab-badge.svg\" alt=\"Open In Colab\"/></a>"
      ]
    },
    {
      "cell_type": "code",
      "execution_count": null,
      "metadata": {
        "colab": {
          "base_uri": "https://localhost:8080/"
        },
        "id": "MgJGSdS4h2_u",
        "outputId": "5f95bf31-e53b-427c-929f-65ea32d75585"
      },
      "outputs": [
        {
          "output_type": "stream",
          "name": "stdout",
          "text": [
            "20.396078054371138\n",
            "10.344080432788601\n",
            "1.9717632888584062\n"
          ]
        }
      ],
      "source": [
        "import numpy as np\n",
        "from scipy.spatial.distance import euclidean\n",
        "\n",
        "x1 = np.array([1, 3, 5, -6, 6])\n",
        "x2 = np.array([2, -4, 6, 8, -7])\n",
        "\n",
        "valor_ab = euclidean(x1, x2)\n",
        "print(valor_ab)\n",
        "\n",
        "x1_norm2 =np.sqrt(np.sum((x1)**2))\n",
        "\n",
        "print(x1_norm2)\n",
        "\n",
        "valor_re = valor_ab / x1_norm2\n",
        "\n",
        "print(valor_re)\n"
      ]
    }
  ]
}